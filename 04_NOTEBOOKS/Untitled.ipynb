{
 "cells": [
  {
   "cell_type": "code",
   "execution_count": 1,
   "id": "1b9e3a99",
   "metadata": {},
   "outputs": [],
   "source": [
    "import pandas as pd\n",
    "import sys\n",
    "import joblib"
   ]
  },
  {
   "cell_type": "code",
   "execution_count": 10,
   "id": "4fb3293a",
   "metadata": {},
   "outputs": [],
   "source": [
    "def decision(id_client):\n",
    "    all_data = pd.read_csv(r'..\\06_MODEL\\all_data.csv')\n",
    "    selected_data = all_data.loc[all_data['SK_ID_CURR'] == id_client]\n",
    "    if len(selected_data) == 0:\n",
    "        return 'No data found'\n",
    "    else:\n",
    "        if str(selected_data.TARGET[selected_data.index[0]]) == 'nan':\n",
    "            cls = joblib.load(r'..\\06_MODEL\\final_model.sav')\n",
    "            top_feat = [col for col in all_data.columns.tolist()[1:] if col != 'TARGET']\n",
    "            print(len(selected_data.columns))\n",
    "            prediction = cls.predict(selected_data[top_feat])\n",
    "            selected_data.loc[selected_data.index[0], 'TARGET'] = prediction\n",
    "    return dict(selected_data)"
   ]
  },
  {
   "cell_type": "code",
   "execution_count": 11,
   "id": "1c2bf34f",
   "metadata": {},
   "outputs": [
    {
     "name": "stdout",
     "output_type": "stream",
     "text": [
      "32\n"
     ]
    },
    {
     "name": "stderr",
     "output_type": "stream",
     "text": [
      "C:\\Users\\abou-\\AppData\\Local\\Programs\\Python\\Python37\\lib\\site-packages\\pandas\\core\\indexing.py:1797: SettingWithCopyWarning: \n",
      "A value is trying to be set on a copy of a slice from a DataFrame.\n",
      "Try using .loc[row_indexer,col_indexer] = value instead\n",
      "\n",
      "See the caveats in the documentation: https://pandas.pydata.org/pandas-docs/stable/user_guide/indexing.html#returning-a-view-versus-a-copy\n",
      "  self._setitem_single_column(loc, v, pi)\n"
     ]
    },
    {
     "data": {
      "text/plain": [
       "{'SK_ID_CURR': 356250    456250\n",
       " Name: SK_ID_CURR, dtype: int64,\n",
       " 'TARGET': 356250    0.0\n",
       " Name: TARGET, dtype: float64,\n",
       " 'AMT_ANNUITY': 356250    24709.5\n",
       " Name: AMT_ANNUITY, dtype: float64,\n",
       " 'AMT_CREDIT': 356250    312768.0\n",
       " Name: AMT_CREDIT, dtype: float64,\n",
       " 'AMT_INCOME_TOTAL': 356250    135000.0\n",
       " Name: AMT_INCOME_TOTAL, dtype: float64,\n",
       " 'AMT_REQ_CREDIT_BUREAU_QRT': 356250    1.0\n",
       " Name: AMT_REQ_CREDIT_BUREAU_QRT, dtype: float64,\n",
       " 'AMT_REQ_CREDIT_BUREAU_YEAR': 356250    4.0\n",
       " Name: AMT_REQ_CREDIT_BUREAU_YEAR, dtype: float64,\n",
       " 'ANNUITY_INCOME_PERC': 356250    0.183033\n",
       " Name: ANNUITY_INCOME_PERC, dtype: float64,\n",
       " 'APARTMENTS_AVG': 356250   NaN\n",
       " Name: APARTMENTS_AVG, dtype: float64,\n",
       " 'BASEMENTAREA_AVG': 356250   NaN\n",
       " Name: BASEMENTAREA_AVG, dtype: float64,\n",
       " 'COMMONAREA_MEDI': 356250   NaN\n",
       " Name: COMMONAREA_MEDI, dtype: float64,\n",
       " 'DAYS_BIRTH': 356250   -13962\n",
       " Name: DAYS_BIRTH, dtype: int64,\n",
       " 'DAYS_EMPLOYED': 356250   -633.0\n",
       " Name: DAYS_EMPLOYED, dtype: float64,\n",
       " 'DAYS_ID_PUBLISH': 356250   -4220\n",
       " Name: DAYS_ID_PUBLISH, dtype: int64,\n",
       " 'DAYS_LAST_PHONE_CHANGE': 356250   -327.0\n",
       " Name: DAYS_LAST_PHONE_CHANGE, dtype: float64,\n",
       " 'DAYS_REGISTRATION': 356250   -1072.0\n",
       " Name: DAYS_REGISTRATION, dtype: float64,\n",
       " 'EXT_SOURCE_1': 356250   NaN\n",
       " Name: EXT_SOURCE_1, dtype: float64,\n",
       " 'EXT_SOURCE_2': 356250    0.456541\n",
       " Name: EXT_SOURCE_2, dtype: float64,\n",
       " 'EXT_SOURCE_3': 356250    0.272134\n",
       " Name: EXT_SOURCE_3, dtype: float64,\n",
       " 'HOUR_APPR_PROCESS_START': 356250    14\n",
       " Name: HOUR_APPR_PROCESS_START, dtype: int64,\n",
       " 'INCOME_CREDIT_PERC': 356250    0.43163\n",
       " Name: INCOME_CREDIT_PERC, dtype: float64,\n",
       " 'INCOME_PER_PERSON': 356250    67500.0\n",
       " Name: INCOME_PER_PERSON, dtype: float64,\n",
       " 'LANDAREA_AVG': 356250   NaN\n",
       " Name: LANDAREA_AVG, dtype: float64,\n",
       " 'LIVINGAREA_MODE': 356250   NaN\n",
       " Name: LIVINGAREA_MODE, dtype: float64,\n",
       " 'NONLIVINGAREA_AVG': 356250   NaN\n",
       " Name: NONLIVINGAREA_AVG, dtype: float64,\n",
       " 'OBS_30_CNT_SOCIAL_CIRCLE': 356250    0.0\n",
       " Name: OBS_30_CNT_SOCIAL_CIRCLE, dtype: float64,\n",
       " 'OWN_CAR_AGE': 356250    22.0\n",
       " Name: OWN_CAR_AGE, dtype: float64,\n",
       " 'PAYMENT_RATE': 356250    0.079003\n",
       " Name: PAYMENT_RATE, dtype: float64,\n",
       " 'REGION_POPULATION_RELATIVE': 356250    0.006629\n",
       " Name: REGION_POPULATION_RELATIVE, dtype: float64,\n",
       " 'TOTALAREA_MODE': 356250   NaN\n",
       " Name: TOTALAREA_MODE, dtype: float64,\n",
       " 'YEARS_BEGINEXPLUATATION_AVG': 356250   NaN\n",
       " Name: YEARS_BEGINEXPLUATATION_AVG, dtype: float64,\n",
       " 'YEARS_BEGINEXPLUATATION_MODE': 356250   NaN\n",
       " Name: YEARS_BEGINEXPLUATATION_MODE, dtype: float64}"
      ]
     },
     "execution_count": 11,
     "metadata": {},
     "output_type": "execute_result"
    }
   ],
   "source": [
    "decision(456250)"
   ]
  },
  {
   "cell_type": "code",
   "execution_count": null,
   "id": "5e73d881",
   "metadata": {},
   "outputs": [],
   "source": []
  }
 ],
 "metadata": {
  "kernelspec": {
   "display_name": "Python 3 (ipykernel)",
   "language": "python",
   "name": "python3"
  },
  "language_info": {
   "codemirror_mode": {
    "name": "ipython",
    "version": 3
   },
   "file_extension": ".py",
   "mimetype": "text/x-python",
   "name": "python",
   "nbconvert_exporter": "python",
   "pygments_lexer": "ipython3",
   "version": "3.7.7"
  }
 },
 "nbformat": 4,
 "nbformat_minor": 5
}
